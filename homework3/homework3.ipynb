{
 "cells": [
  {
   "cell_type": "markdown",
   "metadata": {},
   "source": [
    "# Homework 3: 词性标注与文本分类\n",
    "学号：16307130194\n",
    "姓名：陈中钰"
   ]
  },
  {
   "cell_type": "code",
   "execution_count": 1,
   "metadata": {},
   "outputs": [],
   "source": [
    "%matplotlib inline"
   ]
  },
  {
   "cell_type": "markdown",
   "metadata": {},
   "source": [
    "导入nltk库和nltk.corpus中的brown语料："
   ]
  },
  {
   "cell_type": "code",
   "execution_count": 2,
   "metadata": {},
   "outputs": [
    {
     "name": "stdout",
     "output_type": "stream",
     "text": [
      "['adventure', 'belles_lettres', 'editorial', 'fiction', 'government', 'hobbies', 'humor', 'learned', 'lore', 'mystery', 'news', 'religion', 'reviews', 'romance', 'science_fiction']\n"
     ]
    }
   ],
   "source": [
    "import nltk\n",
    "# nltk.download()\n",
    "# from nltk.book import *\n",
    "from nltk.corpus import brown\n",
    "print(brown.categories())"
   ]
  },
  {
   "cell_type": "markdown",
   "metadata": {},
   "source": [
    "## 1. brown语料库处理"
   ]
  },
  {
   "cell_type": "markdown",
   "metadata": {},
   "source": [
    "从brown语料库中导入使用universal tagset标注的词语数据："
   ]
  },
  {
   "cell_type": "code",
   "execution_count": 3,
   "metadata": {},
   "outputs": [
    {
     "data": {
      "text/plain": [
       "('The', 'DET')"
      ]
     },
     "execution_count": 3,
     "metadata": {},
     "output_type": "execute_result"
    }
   ],
   "source": [
    "tagged_words = brown.tagged_words(tagset='universal')\n",
    "tagged_words[0]"
   ]
  },
  {
   "cell_type": "markdown",
   "metadata": {},
   "source": [
    "数据的数量："
   ]
  },
  {
   "cell_type": "code",
   "execution_count": 4,
   "metadata": {},
   "outputs": [
    {
     "data": {
      "text/plain": [
       "1161192"
      ]
     },
     "execution_count": 4,
     "metadata": {},
     "output_type": "execute_result"
    }
   ],
   "source": [
    "len(tagged_words)"
   ]
  },
  {
   "cell_type": "markdown",
   "metadata": {},
   "source": [
    "数据中使用的全部标注tag："
   ]
  },
  {
   "cell_type": "code",
   "execution_count": 5,
   "metadata": {},
   "outputs": [
    {
     "data": {
      "text/plain": [
       "{'.',\n",
       " 'ADJ',\n",
       " 'ADP',\n",
       " 'ADV',\n",
       " 'CONJ',\n",
       " 'DET',\n",
       " 'NOUN',\n",
       " 'NUM',\n",
       " 'PRON',\n",
       " 'PRT',\n",
       " 'VERB',\n",
       " 'X'}"
      ]
     },
     "execution_count": 5,
     "metadata": {},
     "output_type": "execute_result"
    }
   ],
   "source": [
    "set([tag for (word, tag) in tagged_words])"
   ]
  },
  {
   "cell_type": "markdown",
   "metadata": {},
   "source": [
    "写程序处理布朗语料库，找到以下问题的答案："
   ]
  },
  {
   "cell_type": "markdown",
   "metadata": {},
   "source": [
    "### 1.1 哪些名词常以它们复数形式而不是它们的单数形式出现？（只考虑常规的复数形式，-s后缀形式的）。"
   ]
  },
  {
   "cell_type": "markdown",
   "metadata": {},
   "source": [
    "首先统计所有NOUN的词频："
   ]
  },
  {
   "cell_type": "code",
   "execution_count": 6,
   "metadata": {},
   "outputs": [],
   "source": [
    "fdist = nltk.FreqDist([word for (word, tag) in tagged_words if tag == 'NOUN'])"
   ]
  },
  {
   "cell_type": "markdown",
   "metadata": {},
   "source": [
    "然后要判断一个NOUN是否符合常规的复数形式：词本身不以's'结尾，是单数形式，而且加上's'后的复数形式的词也存在。对这些符合要求的词，计算它的复数形式的出现次数占两种形式的出现次数的比例，按照比例从大到小排序，并显示前100个词。"
   ]
  },
  {
   "cell_type": "code",
   "execution_count": 7,
   "metadata": {},
   "outputs": [
    {
     "data": {
      "text/plain": [
       "[('Corp', 0.9882352941176471),\n",
       " ('headquarter', 0.9824561403508771),\n",
       " ('Catholic', 0.9705882352941176),\n",
       " ('stair', 0.9583333333333334),\n",
       " ('relative', 0.9545454545454546),\n",
       " ('tear', 0.9411764705882353),\n",
       " ('mean', 0.94),\n",
       " ('employe', 0.9375),\n",
       " ('Motor', 0.9347826086956522),\n",
       " ('stockholder', 0.9285714285714286),\n",
       " ('Persian', 0.9230769230769231),\n",
       " ('investor', 0.9166666666666666),\n",
       " ('rib', 0.9166666666666666),\n",
       " ('microorganism', 0.9166666666666666),\n",
       " ('Height', 0.9166666666666666),\n",
       " ('Mill', 0.9130434782608695),\n",
       " ('kenning', 0.9090909090909091),\n",
       " ('Pop', 0.9090909090909091),\n",
       " ('Mar', 0.9047619047619048),\n",
       " ('assessor', 0.9047619047619048),\n",
       " ('ill', 0.9),\n",
       " ('subordinate', 0.9),\n",
       " ('Relation', 0.9),\n",
       " ('gut', 0.9),\n",
       " ('elder', 0.9),\n",
       " ('Brook', 0.8888888888888888),\n",
       " ('Result', 0.8888888888888888),\n",
       " ('resource', 0.8888888888888888),\n",
       " ('recruit', 0.8888888888888888),\n",
       " ('accommodation', 0.8888888888888888),\n",
       " ('Scot', 0.8888888888888888),\n",
       " ('survivor', 0.8888888888888888),\n",
       " ('bun', 0.8888888888888888),\n",
       " ('shipment', 0.8823529411764706),\n",
       " ('narcotic', 0.875),\n",
       " ('teamster', 0.875),\n",
       " ('Problem', 0.875),\n",
       " ('calorie', 0.875),\n",
       " ('cosmetic', 0.875),\n",
       " ('libertie', 0.875),\n",
       " ('syllable', 0.875),\n",
       " ('eyelid', 0.875),\n",
       " ('dune', 0.875),\n",
       " ('circumstance', 0.8723404255319149),\n",
       " ('planner', 0.8666666666666667),\n",
       " ('saving', 0.8636363636363636),\n",
       " ('volunteer', 0.8620689655172413),\n",
       " ('voter', 0.8571428571428571),\n",
       " ('Artist', 0.8571428571428571),\n",
       " ('teen-ager', 0.8571428571428571),\n",
       " ('savage', 0.8571428571428571),\n",
       " ('Seed', 0.8571428571428571),\n",
       " ('epicycle', 0.8571428571428571),\n",
       " ('duct', 0.8571428571428571),\n",
       " ('stray', 0.8571428571428571),\n",
       " ('Picture', 0.8571428571428571),\n",
       " ('troop', 0.8524590163934426),\n",
       " ('follower', 0.85),\n",
       " ('Trustee', 0.8461538461538461),\n",
       " ('Phillip', 0.8461538461538461),\n",
       " ('parent', 0.84375),\n",
       " ('commercial', 0.8333333333333334),\n",
       " ('Dodger', 0.8333333333333334),\n",
       " ('megaton', 0.8333333333333334),\n",
       " ('Idea', 0.8333333333333334),\n",
       " ('Eagle', 0.8333333333333334),\n",
       " ('Pilgrim', 0.8333333333333334),\n",
       " ('Realtor', 0.8333333333333334),\n",
       " ('batten', 0.8333333333333334),\n",
       " ('resultant', 0.8333333333333334),\n",
       " ('Parson', 0.8333333333333334),\n",
       " ('adherent', 0.8333333333333334),\n",
       " ('runner', 0.8333333333333334),\n",
       " ('concentrate', 0.8333333333333334),\n",
       " ('Investor', 0.8333333333333334),\n",
       " ('Fellow', 0.8333333333333334),\n",
       " ('shunt', 0.8333333333333334),\n",
       " ('Direction', 0.8333333333333334),\n",
       " ('retailer', 0.8333333333333334),\n",
       " ('congratulation', 0.8333333333333334),\n",
       " ('tektite', 0.8333333333333334),\n",
       " ('sausage', 0.8333333333333334),\n",
       " ('romantic', 0.8333333333333334),\n",
       " ('shred', 0.8333333333333334),\n",
       " (\"Lewis'\", 0.8333333333333334),\n",
       " ('Blue', 0.8333333333333334),\n",
       " ('cheekbone', 0.8333333333333334),\n",
       " ('invader', 0.8333333333333334),\n",
       " ('Han', 0.8301886792452831),\n",
       " ('tactic', 0.8260869565217391),\n",
       " ('Protestant', 0.8235294117647058),\n",
       " ('facet', 0.8181818181818182),\n",
       " ('pamphlet', 0.8181818181818182),\n",
       " ('subsystem', 0.8181818181818182),\n",
       " ('minute', 0.8177966101694916),\n",
       " ('defect', 0.8125),\n",
       " ('acre', 0.8076923076923077),\n",
       " ('expenditure', 0.8076923076923077),\n",
       " ('milligram', 0.8076923076923077),\n",
       " ('trader', 0.8064516129032258)]"
      ]
     },
     "execution_count": 7,
     "metadata": {},
     "output_type": "execute_result"
    }
   ],
   "source": [
    "words = []\n",
    "for word in fdist:\n",
    "    if not word.endswith('s') and word + 's' in fdist:\n",
    "        words.append((word, fdist[word + 's'] / (fdist[word] + fdist[word + 's'])))\n",
    "words.sort(key=lambda w:w[1], reverse=True)\n",
    "\n",
    "words[0:100]"
   ]
  },
  {
   "cell_type": "markdown",
   "metadata": {},
   "source": [
    "### 1.2 哪个词的不同词性标记数目最多？"
   ]
  },
  {
   "cell_type": "markdown",
   "metadata": {},
   "source": [
    "使用set()统计每个词的词性标记，并输出词性标记数目最多的词语："
   ]
  },
  {
   "cell_type": "code",
   "execution_count": 8,
   "metadata": {},
   "outputs": [
    {
     "data": {
      "text/plain": [
       "(9, 'damn')"
      ]
     },
     "execution_count": 8,
     "metadata": {},
     "output_type": "execute_result"
    }
   ],
   "source": [
    "pos = {}\n",
    "for (word, tag) in tagged_words:\n",
    "    if word not in pos:\n",
    "        pos[word] = set(tag)\n",
    "    else:\n",
    "        pos[word].add(tag)\n",
    "max_count = 0\n",
    "max_count_word = ''\n",
    "for word in pos:\n",
    "    if len(pos[word]) > max_count:\n",
    "        max_count, max_count_word = len(pos[word]), word\n",
    "max_count, max_count_word"
   ]
  },
  {
   "cell_type": "markdown",
   "metadata": {},
   "source": [
    "词性标记数目最多的词语是'damn'，拥有9种词性标记。"
   ]
  },
  {
   "cell_type": "markdown",
   "metadata": {},
   "source": [
    "### 1.3 按频率递减的顺序列出标记。前20个最频繁的词性标记代表什么？"
   ]
  },
  {
   "cell_type": "markdown",
   "metadata": {},
   "source": [
    "使用FreqDist()统计词性标记的数量，并用most_common()按照词性标记的数量从大到小的顺序输出词性标记："
   ]
  },
  {
   "cell_type": "code",
   "execution_count": 9,
   "metadata": {},
   "outputs": [
    {
     "data": {
      "text/plain": [
       "[('NOUN', 275558),\n",
       " ('VERB', 182750),\n",
       " ('.', 147565),\n",
       " ('ADP', 144766),\n",
       " ('DET', 137019),\n",
       " ('ADJ', 83721),\n",
       " ('ADV', 56239),\n",
       " ('PRON', 49334),\n",
       " ('CONJ', 38151),\n",
       " ('PRT', 29829),\n",
       " ('NUM', 14874),\n",
       " ('X', 1386)]"
      ]
     },
     "execution_count": 9,
     "metadata": {},
     "output_type": "execute_result"
    }
   ],
   "source": [
    "fdist = nltk.FreqDist([tag for (word, tag) in tagged_words])\n",
    "fdist.most_common(20)"
   ]
  },
  {
   "cell_type": "markdown",
   "metadata": {},
   "source": [
    "其中，'NOUN'表示名词，'VERB'表示动词，'.'表示标点符号，'ADP'表示adpositions(prepositions and postpositions)，'DET'表示限定词，'ADJ'表示形容词，'ADV'表示副词，'PRON'表示代词，'CONJ'表示连词，'PRT'表示particles or other function words，'NUM'表示数词，'X'表示其他词性。"
   ]
  },
  {
   "cell_type": "markdown",
   "metadata": {},
   "source": [
    "### 1.4 名词后面最常见的是哪些词性标记？这些标记代表什么？"
   ]
  },
  {
   "cell_type": "markdown",
   "metadata": {},
   "source": [
    "使用bigrams()生成二元词组，过滤出前一个词为名词的二元词组，并用FreqDist()统计这些二元词组的词性标记数量，用most_common()按数量从多到少的顺序输出词性标记："
   ]
  },
  {
   "cell_type": "code",
   "execution_count": 10,
   "metadata": {},
   "outputs": [
    {
     "data": {
      "text/plain": [
       "[('.', 78326),\n",
       " ('ADP', 67460),\n",
       " ('VERB', 43819),\n",
       " ('NOUN', 41309),\n",
       " ('CONJ', 16451),\n",
       " ('ADV', 7307),\n",
       " ('PRON', 5492),\n",
       " ('PRT', 4940),\n",
       " ('DET', 4504),\n",
       " ('ADJ', 3603),\n",
       " ('NUM', 2255),\n",
       " ('X', 92)]"
      ]
     },
     "execution_count": 10,
     "metadata": {},
     "output_type": "execute_result"
    }
   ],
   "source": [
    "word_tag_pairs = nltk.bigrams(tagged_words)\n",
    "noun_post = [post[1] for (pre, post) in word_tag_pairs if pre[1] == 'NOUN']\n",
    "fdist = nltk.FreqDist(noun_post)\n",
    "fdist.most_common()"
   ]
  },
  {
   "cell_type": "markdown",
   "metadata": {},
   "source": [
    "其中，'.'表示标点符号，'ADP'表示adpositions(prepositions and postpositions)，'VERB'表示动词，'NOUN'表示名词，'CONJ'表示连词，'ADV'表示副词，'PRON'表示代词，'PRT'表示particles or other function words，'DET'表示限定词，'ADJ'表示形容词，'NUM'表示数词，'X'表示其他词性。"
   ]
  },
  {
   "cell_type": "markdown",
   "metadata": {},
   "source": [
    "## 2. nltk分类器"
   ]
  },
  {
   "cell_type": "markdown",
   "metadata": {},
   "source": [
    "使用nltk提供的任意分类器，以及你能想到的特征，建立一个名字性别分类器。从将名字语料库分成3个子集开始：400个词为测试集，400个词为开发集，剩余的个词为训练集。然后从示例的名字性别分类器开始，逐步改善。使用开发集检查你的进展。一旦你对你的分类器感到满意，在测试集上检查它的最终性能。相比在开发测试集上的性能，它在测试集上的性能如何？"
   ]
  },
  {
   "cell_type": "markdown",
   "metadata": {},
   "source": [
    "从nltk的corpus中导入names数据，给名字标注上性别的标签，获得总体数据，并shuffle数据："
   ]
  },
  {
   "cell_type": "code",
   "execution_count": 11,
   "metadata": {},
   "outputs": [
    {
     "data": {
      "text/plain": [
       "7944"
      ]
     },
     "execution_count": 11,
     "metadata": {},
     "output_type": "execute_result"
    }
   ],
   "source": [
    "from nltk.corpus import names\n",
    "import random\n",
    "\n",
    "labeled_names = ([(name, 'male') for name in names.words('male.txt')] +\n",
    "                 [(name, 'female') for name in names.words('female.txt')])\n",
    "random.seed(1)\n",
    "random.shuffle(labeled_names)\n",
    "len(labeled_names)"
   ]
  },
  {
   "cell_type": "markdown",
   "metadata": {},
   "source": [
    "从总体数据中划分出400个数据作为开发集、400个数据作为测试集，剩下的数据作为训练集："
   ]
  },
  {
   "cell_type": "code",
   "execution_count": 12,
   "metadata": {},
   "outputs": [
    {
     "data": {
      "text/plain": [
       "(7144, 400, 400)"
      ]
     },
     "execution_count": 12,
     "metadata": {},
     "output_type": "execute_result"
    }
   ],
   "source": [
    "dev_amount, test_amount = 400, 400\n",
    "\n",
    "dev_names = labeled_names[:dev_amount]\n",
    "test_names = labeled_names[dev_amount:dev_amount + test_amount]\n",
    "train_names = labeled_names[dev_amount + test_amount:]\n",
    "len(train_names), len(dev_names), len(test_names)"
   ]
  },
  {
   "cell_type": "markdown",
   "metadata": {},
   "source": [
    "### 2.1 以名字最后一个字母为特征"
   ]
  },
  {
   "cell_type": "markdown",
   "metadata": {},
   "source": [
    "提取最后一个字母为特征："
   ]
  },
  {
   "cell_type": "code",
   "execution_count": 13,
   "metadata": {},
   "outputs": [
    {
     "data": {
      "text/plain": [
       "{'last1letter': 'e'}"
      ]
     },
     "execution_count": 13,
     "metadata": {},
     "output_type": "execute_result"
    }
   ],
   "source": [
    "def get_features(word):\n",
    "    return {'last1letter': word[-1]}\n",
    "get_features('Alice')"
   ]
  },
  {
   "cell_type": "markdown",
   "metadata": {},
   "source": [
    "使用训练集训练一个简单贝叶斯分类器，并用开发集测试精度："
   ]
  },
  {
   "cell_type": "code",
   "execution_count": 14,
   "metadata": {},
   "outputs": [
    {
     "data": {
      "text/plain": [
       "0.775"
      ]
     },
     "execution_count": 14,
     "metadata": {},
     "output_type": "execute_result"
    }
   ],
   "source": [
    "train_set = [(get_features(name), label) for name, label in train_names]\n",
    "dev_set = [(get_features(name), label) for name, label in dev_names]\n",
    "classifier = nltk.NaiveBayesClassifier.train(train_set)\n",
    "nltk.classify.accuracy(classifier, dev_set)"
   ]
  },
  {
   "cell_type": "markdown",
   "metadata": {},
   "source": [
    "从开发集中筛选出预测错误的数据，并进行分析："
   ]
  },
  {
   "cell_type": "code",
   "execution_count": 15,
   "metadata": {},
   "outputs": [
    {
     "data": {
      "text/plain": [
       "[('Alexis', 'female', 'male'),\n",
       " ('Ambrosi', 'male', 'female'),\n",
       " ('Anthony', 'male', 'female'),\n",
       " ('Archie', 'male', 'female'),\n",
       " ('Ardeen', 'female', 'male'),\n",
       " ('Babs', 'female', 'male'),\n",
       " ('Barney', 'male', 'female'),\n",
       " ('Broddy', 'male', 'female'),\n",
       " ('Candis', 'female', 'male'),\n",
       " ('Casey', 'male', 'female'),\n",
       " ('Cherin', 'female', 'male'),\n",
       " ('Chevy', 'male', 'female'),\n",
       " ('Conway', 'male', 'female'),\n",
       " ('Danny', 'male', 'female'),\n",
       " ('Dell', 'male', 'female'),\n",
       " ('Dennie', 'male', 'female'),\n",
       " ('Devan', 'female', 'male'),\n",
       " ('Doloritas', 'female', 'male'),\n",
       " ('Doralynn', 'female', 'male'),\n",
       " ('Dot', 'female', 'male'),\n",
       " ('Drake', 'male', 'female'),\n",
       " ('Eddy', 'male', 'female'),\n",
       " ('Eleanor', 'female', 'male'),\n",
       " ('Fan', 'female', 'male'),\n",
       " ('Felicdad', 'female', 'male'),\n",
       " ('Gene', 'male', 'female'),\n",
       " ('Germain', 'female', 'male'),\n",
       " ('Giovanni', 'male', 'female'),\n",
       " ('Glynis', 'female', 'male'),\n",
       " ('Griffith', 'male', 'female'),\n",
       " ('Gwenn', 'female', 'male'),\n",
       " ('Harvey', 'male', 'female'),\n",
       " ('Helmuth', 'male', 'female'),\n",
       " ('Hervey', 'male', 'female'),\n",
       " ('Hewie', 'male', 'female'),\n",
       " ('Ingeborg', 'female', 'male'),\n",
       " ('Jean', 'female', 'male'),\n",
       " ('Jerry', 'male', 'female'),\n",
       " ('Julie', 'male', 'female'),\n",
       " ('Keil', 'male', 'female'),\n",
       " ('Keith', 'male', 'female'),\n",
       " ('Krishna', 'male', 'female'),\n",
       " ('Lay', 'male', 'female'),\n",
       " ('Lindy', 'male', 'female'),\n",
       " ('Locke', 'male', 'female'),\n",
       " ('Lonny', 'male', 'female'),\n",
       " ('Margaux', 'female', 'male'),\n",
       " ('Marilyn', 'female', 'male'),\n",
       " ('Megan', 'female', 'male'),\n",
       " ('Mendel', 'male', 'female'),\n",
       " ('Michael', 'male', 'female'),\n",
       " ('Micky', 'male', 'female'),\n",
       " ('Mikael', 'male', 'female'),\n",
       " ('Mischa', 'male', 'female'),\n",
       " ('Monty', 'male', 'female'),\n",
       " ('Morgen', 'female', 'male'),\n",
       " ('Mose', 'male', 'female'),\n",
       " ('Niall', 'male', 'female'),\n",
       " ('Parnell', 'male', 'female'),\n",
       " ('Parrnell', 'male', 'female'),\n",
       " ('Patrice', 'male', 'female'),\n",
       " ('Peg', 'female', 'male'),\n",
       " ('Phylys', 'female', 'male'),\n",
       " ('Prince', 'male', 'female'),\n",
       " ('Raphael', 'male', 'female'),\n",
       " ('Robbyn', 'female', 'male'),\n",
       " ('Roddie', 'male', 'female'),\n",
       " ('Rolfe', 'male', 'female'),\n",
       " ('Sandy', 'male', 'female'),\n",
       " ('Say', 'male', 'female'),\n",
       " ('Scarlett', 'female', 'male'),\n",
       " ('Shelby', 'male', 'female'),\n",
       " ('Shurlocke', 'male', 'female'),\n",
       " ('Sly', 'male', 'female'),\n",
       " ('Stacy', 'male', 'female'),\n",
       " ('Stanley', 'male', 'female'),\n",
       " ('Steve', 'male', 'female'),\n",
       " ('Sunny', 'male', 'female'),\n",
       " ('Terrill', 'male', 'female'),\n",
       " ('Theo', 'female', 'male'),\n",
       " ('Thomasin', 'female', 'male'),\n",
       " ('Tobie', 'male', 'female'),\n",
       " ('Uli', 'male', 'female'),\n",
       " ('Veradis', 'female', 'male'),\n",
       " ('Vinnie', 'male', 'female'),\n",
       " ('Waine', 'male', 'female'),\n",
       " ('Wayne', 'male', 'female'),\n",
       " ('Westbrooke', 'male', 'female'),\n",
       " ('Wylie', 'male', 'female'),\n",
       " ('Zolly', 'male', 'female')]"
      ]
     },
     "execution_count": 15,
     "metadata": {},
     "output_type": "execute_result"
    }
   ],
   "source": [
    "errors = []\n",
    "for name, label in dev_names:\n",
    "    pred = classifier.classify(get_features(name))\n",
    "    if pred != label:\n",
    "        errors.append((name, label, pred))\n",
    "sorted(errors)"
   ]
  },
  {
   "cell_type": "markdown",
   "metadata": {},
   "source": [
    "仅以最后一个字母来判断性别，精度并不是很高。通过分析错误预测的数据可以发现，以'ly'、'yn'结尾的一般是女性，而以'ie'结尾的一般是男性，因此可以考虑以最后两个字母作为特征。"
   ]
  },
  {
   "cell_type": "markdown",
   "metadata": {},
   "source": [
    "### 2.2 以名字最后一个、最后两个字母为特征"
   ]
  },
  {
   "cell_type": "markdown",
   "metadata": {},
   "source": [
    "提取最后一个、最后两个字母为特征："
   ]
  },
  {
   "cell_type": "code",
   "execution_count": 16,
   "metadata": {},
   "outputs": [
    {
     "data": {
      "text/plain": [
       "{'last1letter': 'e', 'last2letter': 'ce'}"
      ]
     },
     "execution_count": 16,
     "metadata": {},
     "output_type": "execute_result"
    }
   ],
   "source": [
    "def get_features(word):\n",
    "    return {'last1letter': word[-1], 'last2letter': word[-2:]}\n",
    "get_features('Alice')"
   ]
  },
  {
   "cell_type": "markdown",
   "metadata": {},
   "source": [
    "使用训练集训练一个简单贝叶斯分类器，并用开发集测试精度："
   ]
  },
  {
   "cell_type": "code",
   "execution_count": 17,
   "metadata": {},
   "outputs": [
    {
     "data": {
      "text/plain": [
       "0.7925"
      ]
     },
     "execution_count": 17,
     "metadata": {},
     "output_type": "execute_result"
    }
   ],
   "source": [
    "train_set = [(get_features(name), label) for name, label in train_names]\n",
    "dev_set = [(get_features(name), label) for name, label in dev_names]\n",
    "classifier = nltk.NaiveBayesClassifier.train(train_set)\n",
    "nltk.classify.accuracy(classifier, dev_set)"
   ]
  },
  {
   "cell_type": "markdown",
   "metadata": {},
   "source": [
    "精度提高了将近2%。接着从开发集中筛选出预测错误的数据，并进行分析："
   ]
  },
  {
   "cell_type": "code",
   "execution_count": 18,
   "metadata": {},
   "outputs": [
    {
     "data": {
      "text/plain": [
       "[('Aeriel', 'female', 'male'),\n",
       " ('Aggy', 'female', 'male'),\n",
       " ('Alexis', 'female', 'male'),\n",
       " ('Ambrosi', 'male', 'female'),\n",
       " ('Angy', 'female', 'male'),\n",
       " ('Annabal', 'female', 'male'),\n",
       " ('Annabel', 'female', 'male'),\n",
       " ('Anthony', 'male', 'female'),\n",
       " ('Archie', 'male', 'female'),\n",
       " ('Ardeen', 'female', 'male'),\n",
       " ('Babs', 'female', 'male'),\n",
       " ('Bamby', 'female', 'male'),\n",
       " ('Barbey', 'female', 'male'),\n",
       " ('Broddy', 'male', 'female'),\n",
       " ('Candis', 'female', 'male'),\n",
       " ('Cecil', 'female', 'male'),\n",
       " ('Ceciley', 'female', 'male'),\n",
       " ('Cherin', 'female', 'male'),\n",
       " ('Christel', 'female', 'male'),\n",
       " ('Clary', 'female', 'male'),\n",
       " ('Courtney', 'female', 'male'),\n",
       " ('Danny', 'male', 'female'),\n",
       " ('Dennie', 'male', 'female'),\n",
       " ('Devan', 'female', 'male'),\n",
       " ('Doloritas', 'female', 'male'),\n",
       " ('Dorothy', 'female', 'male'),\n",
       " ('Dot', 'female', 'male'),\n",
       " ('Eddy', 'male', 'female'),\n",
       " ('Eleanor', 'female', 'male'),\n",
       " ('Fan', 'female', 'male'),\n",
       " ('Felicdad', 'female', 'male'),\n",
       " ('Gene', 'male', 'female'),\n",
       " ('Germain', 'female', 'male'),\n",
       " ('Giovanni', 'male', 'female'),\n",
       " ('Glynis', 'female', 'male'),\n",
       " ('Griffith', 'male', 'female'),\n",
       " ('Haleigh', 'female', 'male'),\n",
       " ('Helmuth', 'male', 'female'),\n",
       " ('Hewie', 'male', 'female'),\n",
       " ('Ingeborg', 'female', 'male'),\n",
       " ('Jean', 'female', 'male'),\n",
       " ('Julie', 'male', 'female'),\n",
       " ('Keeley', 'female', 'male'),\n",
       " ('Keith', 'male', 'female'),\n",
       " ('Krishna', 'male', 'female'),\n",
       " ('Lindy', 'male', 'female'),\n",
       " ('Lonny', 'male', 'female'),\n",
       " ('Lorry', 'female', 'male'),\n",
       " ('Madel', 'female', 'male'),\n",
       " ('Maisey', 'female', 'male'),\n",
       " ('Marabel', 'female', 'male'),\n",
       " ('Megan', 'female', 'male'),\n",
       " ('Mischa', 'male', 'female'),\n",
       " ('Monty', 'male', 'female'),\n",
       " ('Morgen', 'female', 'male'),\n",
       " ('Mose', 'male', 'female'),\n",
       " ('Patrice', 'male', 'female'),\n",
       " ('Peg', 'female', 'male'),\n",
       " ('Perl', 'female', 'male'),\n",
       " ('Prince', 'male', 'female'),\n",
       " ('Roddie', 'male', 'female'),\n",
       " ('Sandy', 'male', 'female'),\n",
       " ('Scarlett', 'female', 'male'),\n",
       " ('Shirley', 'female', 'male'),\n",
       " ('Sly', 'male', 'female'),\n",
       " ('Stacy', 'male', 'female'),\n",
       " ('Steve', 'male', 'female'),\n",
       " ('Sunny', 'male', 'female'),\n",
       " ('Sybil', 'female', 'male'),\n",
       " ('Tabby', 'female', 'male'),\n",
       " ('Taffy', 'female', 'male'),\n",
       " ('Terry', 'female', 'male'),\n",
       " ('Theo', 'female', 'male'),\n",
       " ('Thomasin', 'female', 'male'),\n",
       " ('Tobie', 'male', 'female'),\n",
       " ('Uli', 'male', 'female'),\n",
       " ('Veradis', 'female', 'male'),\n",
       " ('Vicky', 'female', 'male'),\n",
       " ('Vinnie', 'male', 'female'),\n",
       " ('Waine', 'male', 'female'),\n",
       " ('Wayne', 'male', 'female'),\n",
       " ('Wylie', 'male', 'female'),\n",
       " ('Zolly', 'male', 'female')]"
      ]
     },
     "execution_count": 18,
     "metadata": {},
     "output_type": "execute_result"
    }
   ],
   "source": [
    "errors = []\n",
    "for name, label in dev_names:\n",
    "    pred = classifier.classify(get_features(name))\n",
    "    if pred != label:\n",
    "        errors.append((name, label, pred))\n",
    "sorted(errors)"
   ]
  },
  {
   "cell_type": "markdown",
   "metadata": {},
   "source": [
    "通过分析错误预测的数据可以发现，以'Ma'、'Do'、'Ba'开头的都是女性，因此可以考虑以开头两个字母作为特征。"
   ]
  },
  {
   "cell_type": "markdown",
   "metadata": {},
   "source": [
    "### 2.3 以名字最后一个、最后两个、前两个字母为特征"
   ]
  },
  {
   "cell_type": "markdown",
   "metadata": {},
   "source": [
    "提取最后一个、最后两个、前两个字母为特征："
   ]
  },
  {
   "cell_type": "code",
   "execution_count": 19,
   "metadata": {},
   "outputs": [
    {
     "data": {
      "text/plain": [
       "{'last1letter': 'e', 'last3letter': 'ce', 'first2letter': 'Al'}"
      ]
     },
     "execution_count": 19,
     "metadata": {},
     "output_type": "execute_result"
    }
   ],
   "source": [
    "def get_features(word):\n",
    "    return {'last1letter': word[-1], 'last3letter': word[-2:], 'first2letter': word[:2]}\n",
    "get_features('Alice')"
   ]
  },
  {
   "cell_type": "markdown",
   "metadata": {},
   "source": [
    "使用训练集训练一个简单贝叶斯分类器，并用开发集测试精度："
   ]
  },
  {
   "cell_type": "code",
   "execution_count": 20,
   "metadata": {},
   "outputs": [
    {
     "data": {
      "text/plain": [
       "0.825"
      ]
     },
     "execution_count": 20,
     "metadata": {},
     "output_type": "execute_result"
    }
   ],
   "source": [
    "train_set = [(get_features(name), label) for name, label in train_names]\n",
    "dev_set = [(get_features(name), label) for name, label in dev_names]\n",
    "classifier = nltk.NaiveBayesClassifier.train(train_set)\n",
    "nltk.classify.accuracy(classifier, dev_set)"
   ]
  },
  {
   "cell_type": "markdown",
   "metadata": {},
   "source": [
    "从开发集中筛选出预测错误的数据："
   ]
  },
  {
   "cell_type": "code",
   "execution_count": 21,
   "metadata": {},
   "outputs": [
    {
     "data": {
      "text/plain": [
       "[('Alexis', 'female', 'male'),\n",
       " ('Ambrosi', 'male', 'female'),\n",
       " ('Anthony', 'male', 'female'),\n",
       " ('Archie', 'male', 'female'),\n",
       " ('Ardeen', 'female', 'male'),\n",
       " ('Babs', 'female', 'male'),\n",
       " ('Bamby', 'female', 'male'),\n",
       " ('Barbey', 'female', 'male'),\n",
       " ('Broddy', 'male', 'female'),\n",
       " ('Candis', 'female', 'male'),\n",
       " ('Casey', 'male', 'female'),\n",
       " ('Cherin', 'female', 'male'),\n",
       " ('Christel', 'female', 'male'),\n",
       " ('Clary', 'female', 'male'),\n",
       " ('Conway', 'male', 'female'),\n",
       " ('Danny', 'male', 'female'),\n",
       " ('Dennie', 'male', 'female'),\n",
       " ('Devan', 'female', 'male'),\n",
       " ('Doloritas', 'female', 'male'),\n",
       " ('Dot', 'female', 'male'),\n",
       " ('Eddy', 'male', 'female'),\n",
       " ('Eleanor', 'female', 'male'),\n",
       " ('Felicdad', 'female', 'male'),\n",
       " ('Gene', 'male', 'female'),\n",
       " ('Germain', 'female', 'male'),\n",
       " ('Giovanni', 'male', 'female'),\n",
       " ('Haleigh', 'female', 'male'),\n",
       " ('Havivah', 'female', 'male'),\n",
       " ('Hewie', 'male', 'female'),\n",
       " ('Ingeborg', 'female', 'male'),\n",
       " ('Jean', 'female', 'male'),\n",
       " ('Julie', 'male', 'female'),\n",
       " ('Keith', 'male', 'female'),\n",
       " ('Krishna', 'male', 'female'),\n",
       " ('Lay', 'male', 'female'),\n",
       " ('Lindy', 'male', 'female'),\n",
       " ('Locke', 'male', 'female'),\n",
       " ('Lonny', 'male', 'female'),\n",
       " ('Loren', 'male', 'female'),\n",
       " ('Megan', 'female', 'male'),\n",
       " ('Mendel', 'male', 'female'),\n",
       " ('Micky', 'male', 'female'),\n",
       " ('Mischa', 'male', 'female'),\n",
       " ('Monty', 'male', 'female'),\n",
       " ('Morgen', 'female', 'male'),\n",
       " ('Mose', 'male', 'female'),\n",
       " ('Patrice', 'male', 'female'),\n",
       " ('Peg', 'female', 'male'),\n",
       " ('Perl', 'female', 'male'),\n",
       " ('Prince', 'male', 'female'),\n",
       " ('Roddie', 'male', 'female'),\n",
       " ('Scarlett', 'female', 'male'),\n",
       " ('Stacy', 'male', 'female'),\n",
       " ('Steve', 'male', 'female'),\n",
       " ('Sunny', 'male', 'female'),\n",
       " ('Sybil', 'female', 'male'),\n",
       " ('Tabby', 'female', 'male'),\n",
       " ('Taffy', 'female', 'male'),\n",
       " ('Terry', 'female', 'male'),\n",
       " ('Theo', 'female', 'male'),\n",
       " ('Thomasin', 'female', 'male'),\n",
       " ('Tobie', 'male', 'female'),\n",
       " ('Trudy', 'female', 'male'),\n",
       " ('Uli', 'male', 'female'),\n",
       " ('Veradis', 'female', 'male'),\n",
       " ('Vinnie', 'male', 'female'),\n",
       " ('Waine', 'male', 'female'),\n",
       " ('Wayne', 'male', 'female'),\n",
       " ('Wylie', 'male', 'female'),\n",
       " ('Zolly', 'male', 'female')]"
      ]
     },
     "execution_count": 21,
     "metadata": {},
     "output_type": "execute_result"
    }
   ],
   "source": [
    "errors = []\n",
    "for name, label in dev_names:\n",
    "    pred = classifier.classify(get_features(name))\n",
    "    if pred != label:\n",
    "        errors.append((name, label, pred))\n",
    "sorted(errors)"
   ]
  },
  {
   "cell_type": "markdown",
   "metadata": {},
   "source": [
    "精度提高了超过3%，达到了82.5%，效果还是很不错的。在测试集上检查模型的最终性能："
   ]
  },
  {
   "cell_type": "code",
   "execution_count": 22,
   "metadata": {},
   "outputs": [
    {
     "data": {
      "text/plain": [
       "0.8175"
      ]
     },
     "execution_count": 22,
     "metadata": {},
     "output_type": "execute_result"
    }
   ],
   "source": [
    "test_set = [(get_features(name), label) for name, label in test_names]\n",
    "nltk.classify.accuracy(classifier, test_set)"
   ]
  },
  {
   "cell_type": "markdown",
   "metadata": {},
   "source": [
    "模型在开发测试集上的性能为82.5%，而它在测试集上的性能为81.75%，要稍微低一点。因为使用了训练集来训练模型，并通过在开发集上测试得到的精度来选择一个最好的模型，以防止模型过拟合。而测试集代表的是模型从来没有见过的、更接近现实的数据，所以精度会稍微低一点。"
   ]
  },
  {
   "cell_type": "code",
   "execution_count": null,
   "metadata": {},
   "outputs": [],
   "source": []
  }
 ],
 "metadata": {
  "kernelspec": {
   "display_name": "Python 3",
   "language": "python",
   "name": "python3"
  },
  "language_info": {
   "codemirror_mode": {
    "name": "ipython",
    "version": 3
   },
   "file_extension": ".py",
   "mimetype": "text/x-python",
   "name": "python",
   "nbconvert_exporter": "python",
   "pygments_lexer": "ipython3",
   "version": "3.7.4"
  }
 },
 "nbformat": 4,
 "nbformat_minor": 2
}
