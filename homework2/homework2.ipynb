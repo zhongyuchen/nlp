{
 "cells": [
  {
   "cell_type": "markdown",
   "metadata": {},
   "source": [
    "# Homework 2: 文本处理\n",
    "学号：16307130194\n",
    "姓名：陈中钰"
   ]
  },
  {
   "cell_type": "code",
   "execution_count": 1,
   "metadata": {},
   "outputs": [],
   "source": [
    "%matplotlib inline"
   ]
  },
  {
   "cell_type": "markdown",
   "metadata": {},
   "source": [
    "导入nltk库和nltk.book语料："
   ]
  },
  {
   "cell_type": "code",
   "execution_count": 2,
   "metadata": {},
   "outputs": [
    {
     "name": "stdout",
     "output_type": "stream",
     "text": [
      "*** Introductory Examples for the NLTK Book ***\n",
      "Loading text1, ..., text9 and sent1, ..., sent9\n",
      "Type the name of the text or sentence to view it.\n",
      "Type: 'texts()' or 'sents()' to list the materials.\n",
      "text1: Moby Dick by Herman Melville 1851\n",
      "text2: Sense and Sensibility by Jane Austen 1811\n",
      "text3: The Book of Genesis\n",
      "text4: Inaugural Address Corpus\n",
      "text5: Chat Corpus\n",
      "text6: Monty Python and the Holy Grail\n",
      "text7: Wall Street Journal\n",
      "text8: Personals Corpus\n",
      "text9: The Man Who Was Thursday by G . K . Chesterton 1908\n"
     ]
    }
   ],
   "source": [
    "import nltk\n",
    "#nltk.download()\n",
    "from nltk.book import *"
   ]
  },
  {
   "cell_type": "markdown",
   "metadata": {},
   "source": [
    "导入正则表达式模块："
   ]
  },
  {
   "cell_type": "code",
   "execution_count": 3,
   "metadata": {},
   "outputs": [],
   "source": [
    "import re"
   ]
  },
  {
   "cell_type": "markdown",
   "metadata": {},
   "source": [
    "## 问题1\n",
    "说明以下的正则表达式匹配的字符串类： [a-zA-Z]+； [A-Z][a-z]\\*； p[aeiou]{,2}t； \\d+(\\\\.\\d+)?；([^aeiou][aeiou][^aeiou])* ；\\w+|[^\\w\\s]+。"
   ]
  },
  {
   "cell_type": "markdown",
   "metadata": {},
   "source": [
    "### [a-zA-Z]+\n",
    "匹配的字符串是：1个或多个连续的字母（大写/小写都可以）。匹配的是连续英文字母组成的词。"
   ]
  },
  {
   "cell_type": "markdown",
   "metadata": {},
   "source": [
    "### [A-Z][a-z]\\*\n",
    "匹配的字符串是：第1个字符是大写字母，后面连着0个或多个连续的小写字母。匹配的是titlecase的词。"
   ]
  },
  {
   "cell_type": "markdown",
   "metadata": {},
   "source": [
    "### p[aeiou]{,2}t\n",
    "匹配的字符串是：以字母p开头，接上0\\~2个连续的a、e、i、o、u这5个字母中的任意字母，最后接上1个字母t。匹配的是以字母p开头、字母t结尾、中间有0\\~2个元音字母的词语。"
   ]
  },
  {
   "cell_type": "markdown",
   "metadata": {},
   "source": [
    "### \\d+(\\\\.\\d+)?\n",
    "匹配的字符串是：1个或多个连续的数字，后面可以接上这样的部分——字符'.'后连着1个或多个连续的数字，也可以没有这个部分。匹配的是数字，可以是整数，也可以是浮点数。"
   ]
  },
  {
   "cell_type": "markdown",
   "metadata": {},
   "source": [
    "### ([^aeiou][aeiou][^aeiou])\\*\n",
    "匹配的字符串是：0个或多个连续的这样的模块——由3个字符组成，第1、3个字符是除了a、e、i、o、u以外的任意字符，第2个字符是a、e、i、o、u中的任一字母。匹配的是0个或多个连续的上述模块组成的字符串。"
   ]
  },
  {
   "cell_type": "markdown",
   "metadata": {},
   "source": [
    "### \\w+|[^\\w\\s]+\n",
    "匹配的字符串是：1个或多个连续的字母、数字、下划线，或者是1个或多个连续的除了字母、数字、下划线、空白字符以外的字符。"
   ]
  },
  {
   "cell_type": "markdown",
   "metadata": {},
   "source": [
    "## 问题2\n",
    "创建一个文件，包含词汇和（任意指定）频率，其中每行包含一个词，一个空格和一个正整数，如：fuzzy 53。使用open(filename).readlines()将文件读入Python 链表。接下来，使用split()将每一行分成两个字段，并使用int()将其中的数字转换为一个整数。结果要求是链表形式：[['fuzzy', 53], ...]。"
   ]
  },
  {
   "cell_type": "markdown",
   "metadata": {},
   "source": [
    "由于text8的长度最短，处理速度最快，接下来使用text8来制作题目要求的词频文件。"
   ]
  },
  {
   "cell_type": "code",
   "execution_count": 4,
   "metadata": {},
   "outputs": [
    {
     "data": {
      "text/plain": [
       "4867"
      ]
     },
     "execution_count": 4,
     "metadata": {},
     "output_type": "execute_result"
    }
   ],
   "source": [
    "len(text8)"
   ]
  },
  {
   "cell_type": "markdown",
   "metadata": {},
   "source": [
    "使用FreqDist()统计text8中的词语的词频，同时使用正则表达式选出只由英文字母组成的词语，可以过滤掉含有标点符号、只有标点符号的词。获得词频统计后，调用most_common()获得按照词频从大到小排序的词语及对应词频的列表。为了使生成文件的篇幅短，便于在报告中展示，只选择了词频大小前20的词语来生成文件。按照题目要求处理词语和词频的格式，并生成文件，其中文件的每行包含1个词、1个空格和1个正整数（词频）。生成的文件为'flist.txt'。"
   ]
  },
  {
   "cell_type": "code",
   "execution_count": 5,
   "metadata": {},
   "outputs": [],
   "source": [
    "flist = FreqDist([w for w in text8 if re.search('^[A-Za-z]+$', w)]).most_common(20)\n",
    "flist = ['{} {}\\n'.format(w, freq) for (w, freq) in flist]\n",
    "with open('flist.txt', 'w') as f:\n",
    "    f.writelines(flist)"
   ]
  },
  {
   "cell_type": "markdown",
   "metadata": {},
   "source": [
    "展示按照题目要求生成的flist.txt文件："
   ]
  },
  {
   "cell_type": "code",
   "execution_count": 6,
   "metadata": {},
   "outputs": [
    {
     "name": "stdout",
     "output_type": "stream",
     "text": [
      "for 99\n",
      "and 74\n",
      "to 74\n",
      "lady 68\n",
      "seeks 60\n",
      "a 52\n",
      "with 44\n",
      "S 36\n",
      "ship 33\n",
      "relationship 29\n",
      "fun 28\n",
      "in 27\n",
      "slim 27\n",
      "build 27\n",
      "o 26\n",
      "s 24\n",
      "y 23\n",
      "smoker 23\n",
      "non 22\n",
      "I 22\n"
     ]
    }
   ],
   "source": [
    "with open('flist.txt', 'r') as f:\n",
    "    for line in f:\n",
    "        print(line, end='')"
   ]
  },
  {
   "cell_type": "markdown",
   "metadata": {},
   "source": [
    "使用open(filename).readlines()把整个文件读取进列表，把列表中的每行使用split()分成2个字段，并使用int()将其中的数字string转换为整数，生成最终列表结果："
   ]
  },
  {
   "cell_type": "code",
   "execution_count": 7,
   "metadata": {},
   "outputs": [
    {
     "name": "stdout",
     "output_type": "stream",
     "text": [
      "[['for', 99], ['and', 74], ['to', 74], ['lady', 68], ['seeks', 60], ['a', 52], ['with', 44], ['S', 36], ['ship', 33], ['relationship', 29], ['fun', 28], ['in', 27], ['slim', 27], ['build', 27], ['o', 26], ['s', 24], ['y', 23], ['smoker', 23], ['non', 22], ['I', 22]]\n"
     ]
    }
   ],
   "source": [
    "lines = open('flist.txt').readlines()\n",
    "lines = [line.split() for line in lines]\n",
    "lines = [[w, int(freq)] for (w, freq) in lines]\n",
    "print(lines)"
   ]
  },
  {
   "cell_type": "markdown",
   "metadata": {},
   "source": [
    "## 问题3\n",
    "定义一个变量silly 包含字符串：'newly formed bland ideas are inexpressible in an infuriating way'。编写代码执行以下任务：分割silly 为一个字符串链表，每一个词一个字符串，使用Python 的split()操作，并保存到叫做bland 的变量中；提取silly 中每个词的第二个字母，将它们连接成一个字符串，得到'eoldrnnnna'；使用join()将bland 中的词组合成一个单独的字符串。确保结果字符串中的词以空格隔开。"
   ]
  },
  {
   "cell_type": "markdown",
   "metadata": {},
   "source": [
    "定义silly字符串："
   ]
  },
  {
   "cell_type": "code",
   "execution_count": 8,
   "metadata": {},
   "outputs": [
    {
     "data": {
      "text/plain": [
       "'newly formed bland ideas are inexpressible in an infuriating way'"
      ]
     },
     "execution_count": 8,
     "metadata": {},
     "output_type": "execute_result"
    }
   ],
   "source": [
    "silly = 'newly formed bland ideas are inexpressible in an infuriating way'\n",
    "silly"
   ]
  },
  {
   "cell_type": "markdown",
   "metadata": {},
   "source": [
    "使用split()操作把silly字符串分割为字符列表，每个词一个string，并保存到bland中："
   ]
  },
  {
   "cell_type": "code",
   "execution_count": 9,
   "metadata": {},
   "outputs": [
    {
     "name": "stdout",
     "output_type": "stream",
     "text": [
      "['newly', 'formed', 'bland', 'ideas', 'are', 'inexpressible', 'in', 'an', 'infuriating', 'way']\n"
     ]
    }
   ],
   "source": [
    "bland = silly.split()\n",
    "print(bland)"
   ]
  },
  {
   "cell_type": "markdown",
   "metadata": {},
   "source": [
    "提取bland中每个词的第2个字母，将它们连接成一个字符串，得到'eoldrnnnna'："
   ]
  },
  {
   "cell_type": "code",
   "execution_count": 10,
   "metadata": {},
   "outputs": [
    {
     "data": {
      "text/plain": [
       "'eoldrnnnna'"
      ]
     },
     "execution_count": 10,
     "metadata": {},
     "output_type": "execute_result"
    }
   ],
   "source": [
    "sec = \"\"\n",
    "for w in bland:\n",
    "    if len(w) >= 2:\n",
    "        sec += w[1]\n",
    "sec"
   ]
  },
  {
   "cell_type": "markdown",
   "metadata": {},
   "source": [
    "使用join()将bland中的词用空格组合成一个单独的字符串："
   ]
  },
  {
   "cell_type": "code",
   "execution_count": 11,
   "metadata": {},
   "outputs": [
    {
     "data": {
      "text/plain": [
       "'newly formed bland ideas are inexpressible in an infuriating way'"
      ]
     },
     "execution_count": 11,
     "metadata": {},
     "output_type": "execute_result"
    }
   ],
   "source": [
    "' '.join(bland)"
   ]
  },
  {
   "cell_type": "code",
   "execution_count": null,
   "metadata": {},
   "outputs": [],
   "source": []
  }
 ],
 "metadata": {
  "kernelspec": {
   "display_name": "Python 3",
   "language": "python",
   "name": "python3"
  },
  "language_info": {
   "codemirror_mode": {
    "name": "ipython",
    "version": 3
   },
   "file_extension": ".py",
   "mimetype": "text/x-python",
   "name": "python",
   "nbconvert_exporter": "python",
   "pygments_lexer": "ipython3",
   "version": "3.6.8"
  }
 },
 "nbformat": 4,
 "nbformat_minor": 2
}
